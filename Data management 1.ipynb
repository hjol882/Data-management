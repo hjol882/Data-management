{
 "cells": [
  {
   "cell_type": "code",
   "execution_count": 36,
   "metadata": {},
   "outputs": [],
   "source": [
    "import csv\n",
    "from collections import defaultdict\n",
    "from datetime import datetime\n"
   ]
  },
  {
   "cell_type": "code",
   "execution_count": null,
   "metadata": {},
   "outputs": [
    {
     "name": "stderr",
     "output_type": "stream",
     "text": [
      "<>:2: SyntaxWarning: invalid escape sequence '\\s'\n",
      "<>:2: SyntaxWarning: invalid escape sequence '\\s'\n",
      "C:\\Users\\USUARIO\\AppData\\Local\\Temp\\ipykernel_13672\\3110555696.py:2: SyntaxWarning: invalid escape sequence '\\s'\n",
      "  with open(\"C:\\\\Users\\sampleData.csv\", mode='r') as file: # Open the cvs in read mode\n"
     ]
    },
    {
     "name": "stdout",
     "output_type": "stream",
     "text": [
      "Results saved in 'customer_sales_data.csv'.\n",
      "221231\n",
      "1121.0\n",
      "877\n",
      "2020-01-06\n",
      "2020-01-06\n",
      "28.76\n"
     ]
    }
   ],
   "source": [
    "data = defaultdict(lambda: defaultdict(list)) # initialize a nested dictionary which customer and productAggrupationID\n",
    "with open(\"C:\\\\Users\\sampleData.csv\", mode='r') as file: # Open the cvs in read mode\n",
    "    reader = csv.DictReader(file) # this convert each row of the csv \n",
    "\n",
    "    for row in reader:  # extracts all the values of the rows of every column \n",
    "        customer = row['customer']\n",
    "        productAggrupationID = row['productAgrupationID']\n",
    "        productID = row['productID']\n",
    "        order_date = datetime.strptime(row['order_date'], \"%Y-%m-%dT%H:%M:%S.%fZ\")\n",
    "        product_cases = float(row['product_cases_ordered'])\n",
    "\n",
    "    data[customer][productAggrupationID].append({ # appends a dictionary to the list asociate to customer and productAggrupationID\n",
    "        'productID': productID,\n",
    "        'order_date': order_date,\n",
    "        'product_cases_ordered': product_cases\n",
    "        })\n",
    "    \n",
    "    output = [] # list that will contain the output\n",
    "\n",
    "    for customer, products in data.items(): # iterate over every customer\n",
    "        most_sold_productAggrupationID = min(products, key=lambda x: (-len(products[x]), x)) # determinte the highest sales count productAggrupationID due to the negative\n",
    "\n",
    "    product_counts = defaultdict(int)\n",
    "    for item in products[most_sold_productAggrupationID]:\n",
    "        product_counts[item['productID']] += 1 # counts \n",
    "        most_sold_product = min(product_counts, key=lambda x: (-product_counts[x], x)) # determinte the highiest count of prodcutId within the  most_sold_productAggrupationID\n",
    "\n",
    "    order_dates = sorted([item['order_date']for item in products[most_sold_productAggrupationID]]) # a sorted list of all the datas within the most_sold_aggrupation\n",
    "    last_order_date = order_dates[-1] # the most recent order date\n",
    "    preceding_order_date = order_dates[-2] if len(order_dates) > 1 else last_order_date # the date of the order which preccedes the most recent order or the same date\n",
    "\n",
    "    total_cases_ordered = sum(item['product_cases_ordered'] for item in products[most_sold_productAggrupationID] if item['productID'] == most_sold_product) # sum the cased ordered within the most_sold_aggrupation\n",
    "\n",
    "    output.append({ # append the values in the output list\n",
    "        'customer': customer,\n",
    "        'most_sold_productAgrupationID': most_sold_productAggrupationID,\n",
    "        'most_sold_product': most_sold_product ,\n",
    "        'last_order_date': last_order_date.strftime(\"%Y-%m-%d\"),\n",
    "        'preceding_order_date': preceding_order_date.strftime(\"%Y-%m-%d\"),\n",
    "        'product_cases_ordered': total_cases_ordered\n",
    "    })\n",
    "\n",
    "    with open('customer_sales_data.csv', mode='w', newline='') as file: # writes the dictionary to the csv file \n",
    "        writer = csv.DictWriter(file, fieldnames=[ # write the headers rows to the file \n",
    "        'customer', 'most_sold_productAgrupationID', 'most_sold_product', \n",
    "        'last_order_date', 'preceding_order_date', 'product_cases_ordered'\n",
    "    ])\n",
    "        writer.writeheader()\n",
    "        writer.writerows(output)  #writes all the customer data \n",
    "      \n",
    "\n",
    "print(\"Results saved in 'customer_sales_data.csv'.\")\n",
    "print(customer)\n",
    "print(most_sold_productAggrupationID)\n",
    "print(most_sold_product)\n",
    "print(last_order_date.strftime(\"%Y-%m-%d\"))\n",
    "print(preceding_order_date.strftime(\"%Y-%m-%d\"))\n",
    "print(total_cases_ordered)\n"
   ]
  }
 ],
 "metadata": {
  "kernelspec": {
   "display_name": "Python 3",
   "language": "python",
   "name": "python3"
  },
  "language_info": {
   "codemirror_mode": {
    "name": "ipython",
    "version": 3
   },
   "file_extension": ".py",
   "mimetype": "text/x-python",
   "name": "python",
   "nbconvert_exporter": "python",
   "pygments_lexer": "ipython3",
   "version": "3.12.3"
  }
 },
 "nbformat": 4,
 "nbformat_minor": 2
}
